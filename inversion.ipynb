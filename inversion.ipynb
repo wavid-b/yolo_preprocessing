{
 "cells": [
  {
   "cell_type": "code",
   "execution_count": 1,
   "metadata": {},
   "outputs": [],
   "source": [
    "import os\n",
    "from PIL import Image, ImageOps\n",
    "\n",
    "def invert_colors_in_folder(folder_path):\n",
    "    for filename in os.listdir(folder_path):\n",
    "        if filename.endswith(('.png', '.jpg', '.jpeg', '.bmp', '.gif')):\n",
    "            file_path = os.path.join(folder_path, filename)\n",
    "            image = Image.open(file_path)\n",
    "            inverted_image = ImageOps.invert(image.convert('RGB'))\n",
    "            inverted_image.save(file_path)\n",
    "\n",
    "# Example usage\n",
    "folder_path = 'preprocessed/images'\n",
    "invert_colors_in_folder(folder_path)"
   ]
  }
 ],
 "metadata": {
  "kernelspec": {
   "display_name": "Python 3",
   "language": "python",
   "name": "python3"
  },
  "language_info": {
   "codemirror_mode": {
    "name": "ipython",
    "version": 3
   },
   "file_extension": ".py",
   "mimetype": "text/x-python",
   "name": "python",
   "nbconvert_exporter": "python",
   "pygments_lexer": "ipython3",
   "version": "3.10.8"
  }
 },
 "nbformat": 4,
 "nbformat_minor": 2
}
