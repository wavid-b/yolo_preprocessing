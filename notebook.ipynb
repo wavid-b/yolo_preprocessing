{
 "cells": [
  {
   "cell_type": "code",
   "execution_count": 11,
   "metadata": {},
   "outputs": [],
   "source": [
    "import cv2 \n",
    "import numpy as np\n",
    "import os\n",
    "def get_txt_files(folder_path):\n",
    "    return [os.path.join(folder_path, f) for f in os.listdir(folder_path) if f.endswith('.txt')]\n",
    "def get_image_files(folder_path):\n",
    "    return [os.path.join(folder_path, f) for f in os.listdir(folder_path) if f.endswith('.jpg') or f.endswith('.png')]\n",
    "\n",
    "def rotate_yolo_labels_90(yolo_labels_path, img_width, img_height, num_rotations=1, prev_rotation=None) -> list:\n",
    "    if prev_rotation == None:\n",
    "        with open(yolo_labels_path, \"r\") as f:\n",
    "            lines = f.readlines()\n",
    "    else:\n",
    "        lines = prev_rotation\n",
    "\n",
    "    rotated_lines = []\n",
    "\n",
    "    for line in lines:\n",
    "        class_idx, x_center_norm, y_center_norm, width_norm, height_norm = map(float, line.split())\n",
    "        class_idx = int(class_idx)\n",
    "\n",
    "        # Convert normalized center coordinates to pixel coordinates\n",
    "        x_center = x_center_norm * img_width\n",
    "        y_center = y_center_norm * img_height\n",
    "\n",
    "        # Compute new pixel coordinates for rotated bounding box\n",
    "        x_new = y_center\n",
    "        y_new = img_width - x_center\n",
    "\n",
    "        # Convert new pixel coordinates back to normalized coordinates\n",
    "        x_new_norm = x_new / img_height\n",
    "        y_new_norm = y_new / img_width\n",
    "\n",
    "        # NEW ADDED\n",
    "        width_new_norm = height_norm\n",
    "        height_new_norm = width_norm\n",
    "\n",
    "        # Append rotated annotation to list of strings\n",
    "        rotated_line = f\"{class_idx} {x_new_norm:.6f} {y_new_norm:.6f} {width_new_norm:.6f} {height_new_norm:.6f}\"\n",
    "        rotated_lines.append(rotated_line)\n",
    "    \n",
    "    if num_rotations == 1:\n",
    "        return rotated_lines\n",
    "    else:\n",
    "        rotated_lines = rotate_yolo_labels_90(yolo_labels_path, width_new_norm, height_new_norm, num_rotations-1, rotated_lines)\n",
    "\n",
    "    return rotated_lines\n",
    "def rotated_true_labels(folder_path, img_width, img_height, num_rotations) -> str:\n",
    "    output_list = rotate_yolo_labels_90(folder_path, img_width, img_height, num_rotations)\n",
    "    #now append the list together as a string separated by newlines\n",
    "    return \"\\n\".join(output_list)\n",
    "\n"
   ]
  },
  {
   "cell_type": "code",
   "execution_count": 12,
   "metadata": {},
   "outputs": [],
   "source": [
    "def preprocess_images(img_folder_path):\n",
    "    #get every image in the path\n",
    "    image_files = get_image_files(img_folder_path)\n",
    "    for image_file in image_files:\n",
    "        #get the image_file name without extension\n",
    "        base_name = os.path.splitext(os.path.basename(image_file))[0]\n",
    "        image = cv2.imread(image_file)\n",
    "        gray_image = cv2.cvtColor(image, cv2.COLOR_BGR2GRAY)\n",
    "        # normalized_image = gray_image / 255.0\n",
    "        blurred_image = cv2.GaussianBlur(gray_image, (5, 5), 0)\n",
    "\n",
    "        #now time for some data augmenting\n",
    "            #let's add rotated version of the image to the dir as 0 thru 3 \n",
    "        rotated_image = blurred_image\n",
    "        augmented_images = [blurred_image]\n",
    "        for i in range(3):\n",
    "            rotated_image = cv2.rotate(rotated_image, cv2.ROTATE_90_CLOCKWISE)\n",
    "            augmented_images.append(rotated_image)\n",
    "\n",
    "        #finally, write the image to preprocessed/images/base_name_0 thru 3 .jpg\n",
    "        for i, augmented_image in enumerate(augmented_images):\n",
    "            cv2.imwrite(f'preprocessed/images/{base_name}_{i}.jpg', augmented_image)\n",
    "\n",
    "        #now, write the rotated image lables to preprocessed/labels/base_name_0 thru 3 .txt\n"
   ]
  },
  {
   "cell_type": "code",
   "execution_count": 24,
   "metadata": {},
   "outputs": [],
   "source": [
    "def preprocess_labels(label_folder_path):\n",
    "    label_files = get_txt_files(label_folder_path)\n",
    "    for label_file in label_files:\n",
    "        base_name = os.path.splitext(os.path.basename(label_file))[0] \n",
    "        for i in range(4):\n",
    "                with open(f'preprocessed/labels/{base_name}_{i}.txt', 'w') as f:\n",
    "                    if i == 0:\n",
    "                        f.write(open(label_file).read())\n",
    "                    else:\n",
    "                        f.write(rotated_true_labels(label_folder_path+\"/\"+base_name+'.txt', 640, 640, i))\n",
    "    "
   ]
  },
  {
   "cell_type": "code",
   "execution_count": 15,
   "metadata": {},
   "outputs": [
    {
     "ename": "KeyboardInterrupt",
     "evalue": "",
     "output_type": "error",
     "traceback": [
      "\u001b[0;31m---------------------------------------------------------------------------\u001b[0m",
      "\u001b[0;31mKeyboardInterrupt\u001b[0m                         Traceback (most recent call last)",
      "Cell \u001b[0;32mIn[15], line 2\u001b[0m\n\u001b[1;32m      1\u001b[0m path \u001b[38;5;241m=\u001b[39m \u001b[38;5;124m\"\u001b[39m\u001b[38;5;124mTraining Set/Training Images/\u001b[39m\u001b[38;5;124m\"\u001b[39m\n\u001b[0;32m----> 2\u001b[0m \u001b[43mpreprocess_images\u001b[49m\u001b[43m(\u001b[49m\u001b[43mpath\u001b[49m\u001b[43m)\u001b[49m\n",
      "Cell \u001b[0;32mIn[12], line 22\u001b[0m, in \u001b[0;36mpreprocess_images\u001b[0;34m(img_folder_path)\u001b[0m\n\u001b[1;32m     20\u001b[0m \u001b[38;5;66;03m#finally, write the image to preprocessed/images/base_name_0 thru 3 .jpg\u001b[39;00m\n\u001b[1;32m     21\u001b[0m \u001b[38;5;28;01mfor\u001b[39;00m i, augmented_image \u001b[38;5;129;01min\u001b[39;00m \u001b[38;5;28menumerate\u001b[39m(augmented_images):\n\u001b[0;32m---> 22\u001b[0m     \u001b[43mcv2\u001b[49m\u001b[38;5;241;43m.\u001b[39;49m\u001b[43mimwrite\u001b[49m\u001b[43m(\u001b[49m\u001b[38;5;124;43mf\u001b[39;49m\u001b[38;5;124;43m'\u001b[39;49m\u001b[38;5;124;43mpreprocessed/images/\u001b[39;49m\u001b[38;5;132;43;01m{\u001b[39;49;00m\u001b[43mbase_name\u001b[49m\u001b[38;5;132;43;01m}\u001b[39;49;00m\u001b[38;5;124;43m_\u001b[39;49m\u001b[38;5;132;43;01m{\u001b[39;49;00m\u001b[43mi\u001b[49m\u001b[38;5;132;43;01m}\u001b[39;49;00m\u001b[38;5;124;43m.jpg\u001b[39;49m\u001b[38;5;124;43m'\u001b[39;49m\u001b[43m,\u001b[49m\u001b[43m \u001b[49m\u001b[43maugmented_image\u001b[49m\u001b[43m)\u001b[49m\n",
      "\u001b[0;31mKeyboardInterrupt\u001b[0m: "
     ]
    }
   ],
   "source": [
    "path = \"Training Set/Training Images/\"\n",
    "preprocess_images(path)"
   ]
  },
  {
   "cell_type": "code",
   "execution_count": 25,
   "metadata": {},
   "outputs": [],
   "source": [
    "path = 'Training Set/Training Coordinates'\n",
    "preprocess_labels(path)"
   ]
  }
 ],
 "metadata": {
  "kernelspec": {
   "display_name": "Python 3",
   "language": "python",
   "name": "python3"
  },
  "language_info": {
   "codemirror_mode": {
    "name": "ipython",
    "version": 3
   },
   "file_extension": ".py",
   "mimetype": "text/x-python",
   "name": "python",
   "nbconvert_exporter": "python",
   "pygments_lexer": "ipython3",
   "version": "3.10.8"
  }
 },
 "nbformat": 4,
 "nbformat_minor": 2
}
