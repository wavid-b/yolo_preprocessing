{
 "cells": [
  {
   "cell_type": "code",
   "execution_count": null,
   "metadata": {},
   "outputs": [],
   "source": [
    "import cv2 \n",
    "import numpy as np\n",
    "import os\n",
    "def get_image_files(folder_path):\n",
    "    return [os.path.join(folder_path, f) for f in os.listdir(folder_path) if f.endswith('.jpg') or f.endswith('.png')]\n",
    "def rotated_true_labels(folder_path, num_rotations) -> str:\n",
    "    return \"Not yet implimented\"\n"
   ]
  },
  {
   "cell_type": "code",
   "execution_count": 1,
   "metadata": {},
   "outputs": [],
   "source": [
    "def preprocess_images(img_folder_path, label_folder_path):\n",
    "    #get every image in the path\n",
    "    image_files = get_image_files(img_folder_path)\n",
    "    for image_file in image_files:\n",
    "        #get the image_file name without extension\n",
    "        base_name = os.path.splitext(os.path.basename(image_file))[0]\n",
    "        image = cv2.imread(image_file)\n",
    "        gray_image = cv2.cvtColor(image, cv2.COLOR_BGR2GRAY)\n",
    "        blurred_image = cv2.GaussianBlur(gray_image, (5, 5), 0)\n",
    "        #now time for some data augmenting\n",
    "            #let's add rotated version of the image to the dir as 0 thru 3 \n",
    "        rotated_image = blurred_image\n",
    "        augmented_images = [blurred_image]\n",
    "        for i in range(3):\n",
    "            rotated_image = cv2.rotate(rotated_image, cv2.ROTATE_90_CLOCKWISE)\n",
    "            augmented_images.append(rotated_image)\n",
    "\n",
    "        #finally, write the image to preprocessed/images/base_name_0 thru 3 .jpg\n",
    "        for i, augmented_image in enumerate(augmented_images):\n",
    "            cv2.imwrite(f'preprocessed/images/{base_name}_{i}.jpg', augmented_image)\n",
    "            with open(f'preprocessed/labels/{base_name}_{i}.txt', 'w') as f:\n",
    "                f.write(rotated_true_labels(label_folder_path, i))\n",
    "\n",
    "        #now, write the rotated image lables to preprocessed/labels/base_name_0 thru 3 .txt\n",
    "        \n",
    "\n",
    "        \n",
    "\n",
    "    \n",
    "\n"
   ]
  },
  {
   "cell_type": "code",
   "execution_count": null,
   "metadata": {},
   "outputs": [],
   "source": []
  }
 ],
 "metadata": {
  "kernelspec": {
   "display_name": "Python 3",
   "language": "python",
   "name": "python3"
  },
  "language_info": {
   "codemirror_mode": {
    "name": "ipython",
    "version": 3
   },
   "file_extension": ".py",
   "mimetype": "text/x-python",
   "name": "python",
   "nbconvert_exporter": "python",
   "pygments_lexer": "ipython3",
   "version": "3.10.8"
  }
 },
 "nbformat": 4,
 "nbformat_minor": 2
}
