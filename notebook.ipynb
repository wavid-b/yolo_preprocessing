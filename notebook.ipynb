{
 "cells": [
  {
   "cell_type": "code",
   "execution_count": 5,
   "metadata": {},
   "outputs": [],
   "source": [
    "import cv2 \n",
    "import numpy as np\n",
    "import os\n",
    "def get_txt_files(folder_path):\n",
    "    return [os.path.join(folder_path, f) for f in os.listdir(folder_path) if f.endswith('.txt')]\n",
    "def get_image_files(folder_path):\n",
    "    return [os.path.join(folder_path, f) for f in os.listdir(folder_path) if f.endswith('.jpg') or f.endswith('.png')]\n",
    "\n",
    "def rotate_yolo_labels_90(yolo_labels_path, img_width, img_height, num_rotations=1, prev_rotation=None) -> list:\n",
    "    if prev_rotation == None:\n",
    "        with open(yolo_labels_path, \"r\") as f:\n",
    "            lines = f.readlines()\n",
    "    else:\n",
    "        lines = prev_rotation\n",
    "\n",
    "    rotated_lines = []\n",
    "\n",
    "    for line in lines:\n",
    "        class_idx, x_center_norm, y_center_norm, width_norm, height_norm = map(float, line.split())\n",
    "        class_idx = int(class_idx)\n",
    "\n",
    "        # Convert normalized center coordinates to pixel coordinates\n",
    "        x_center = x_center_norm * img_width\n",
    "        y_center = y_center_norm * img_height\n",
    "\n",
    "        # Compute new pixel coordinates for rotated bounding box\n",
    "        x_new = y_center\n",
    "        y_new = img_width - x_center\n",
    "\n",
    "        # Convert new pixel coordinates back to normalized coordinates\n",
    "        x_new_norm = x_new / img_height\n",
    "        y_new_norm = y_new / img_width\n",
    "\n",
    "        # NEW ADDED\n",
    "        width_new_norm = height_norm\n",
    "        height_new_norm = width_norm\n",
    "\n",
    "        # Append rotated annotation to list of strings\n",
    "        rotated_line = f\"{class_idx} {x_new_norm:.6f} {y_new_norm:.6f} {width_new_norm:.6f} {height_new_norm:.6f}\"\n",
    "        rotated_lines.append(rotated_line)\n",
    "    \n",
    "    if num_rotations == 1:\n",
    "        return rotated_lines\n",
    "    else:\n",
    "        rotated_lines = rotate_yolo_labels_90(yolo_labels_path, width_new_norm, height_new_norm, num_rotations-1, rotated_lines)\n",
    "\n",
    "    return rotated_lines\n",
    "def rotated_true_labels(folder_path, img_width, img_height, num_rotations) -> str:\n",
    "    output_list = rotate_yolo_labels_90(folder_path, img_width, img_height, num_rotations)\n",
    "    #now append the list together as a string separated by newlines\n",
    "    return \"\\n\".join(output_list)\n",
    "\n"
   ]
  },
  {
   "cell_type": "code",
   "execution_count": 12,
   "metadata": {},
   "outputs": [],
   "source": [
    "def preprocess_images(img_folder_path):\n",
    "    #get every image in the path\n",
    "    image_files = get_image_files(img_folder_path)\n",
    "    for image_file in image_files:\n",
    "        #get the image_file name without extension\n",
    "        base_name = os.path.splitext(os.path.basename(image_file))[0]\n",
    "        image = cv2.imread(image_file)\n",
    "        gray_image = cv2.cvtColor(image, cv2.COLOR_BGR2GRAY)\n",
    "        # normalized_image = gray_image / 255.0\n",
    "        blurred_image = cv2.GaussianBlur(gray_image, (5, 5), 0)\n",
    "\n",
    "        #now time for some data augmenting\n",
    "            #let's add rotated version of the image to the dir as 0 thru 3 \n",
    "        rotated_image = blurred_image\n",
    "        augmented_images = [blurred_image]\n",
    "        for i in range(3):\n",
    "            rotated_image = cv2.rotate(rotated_image, cv2.ROTATE_90_CLOCKWISE)\n",
    "            augmented_images.append(rotated_image)\n",
    "\n",
    "        #finally, write the image to preprocessed/images/base_name_0 thru 3 .jpg\n",
    "        for i, augmented_image in enumerate(augmented_images):\n",
    "            cv2.imwrite(f'preprocessed/images/{base_name}_{i}.jpg', augmented_image)\n",
    "\n",
    "        #now, write the rotated image lables to preprocessed/labels/base_name_0 thru 3 .txt\n"
   ]
  },
  {
   "cell_type": "code",
   "execution_count": 4,
   "metadata": {},
   "outputs": [],
   "source": [
    "def preprocess_labels(label_folder_path):\n",
    "    label_files = get_txt_files(label_folder_path)\n",
    "    for label_file in label_files:\n",
    "        base_name = os.path.splitext(os.path.basename(label_file))[0] \n",
    "        for i in range(4):\n",
    "                with open(f'preprocessed/labels/{base_name}_{i}.txt', 'w') as f:\n",
    "                    if i == 0:\n",
    "                        f.write(open(label_file).read())\n",
    "                    else:\n",
    "                        f.write(rotated_true_labels(label_folder_path+\"/\"+base_name+'.txt', 640, 640, i))\n",
    "    "
   ]
  },
  {
   "cell_type": "code",
   "execution_count": 15,
   "metadata": {},
   "outputs": [
    {
     "ename": "KeyboardInterrupt",
     "evalue": "",
     "output_type": "error",
     "traceback": [
      "\u001b[0;31m---------------------------------------------------------------------------\u001b[0m",
      "\u001b[0;31mKeyboardInterrupt\u001b[0m                         Traceback (most recent call last)",
      "Cell \u001b[0;32mIn[15], line 2\u001b[0m\n\u001b[1;32m      1\u001b[0m path \u001b[38;5;241m=\u001b[39m \u001b[38;5;124m\"\u001b[39m\u001b[38;5;124mTraining Set/Training Images/\u001b[39m\u001b[38;5;124m\"\u001b[39m\n\u001b[0;32m----> 2\u001b[0m \u001b[43mpreprocess_images\u001b[49m\u001b[43m(\u001b[49m\u001b[43mpath\u001b[49m\u001b[43m)\u001b[49m\n",
      "Cell \u001b[0;32mIn[12], line 22\u001b[0m, in \u001b[0;36mpreprocess_images\u001b[0;34m(img_folder_path)\u001b[0m\n\u001b[1;32m     20\u001b[0m \u001b[38;5;66;03m#finally, write the image to preprocessed/images/base_name_0 thru 3 .jpg\u001b[39;00m\n\u001b[1;32m     21\u001b[0m \u001b[38;5;28;01mfor\u001b[39;00m i, augmented_image \u001b[38;5;129;01min\u001b[39;00m \u001b[38;5;28menumerate\u001b[39m(augmented_images):\n\u001b[0;32m---> 22\u001b[0m     \u001b[43mcv2\u001b[49m\u001b[38;5;241;43m.\u001b[39;49m\u001b[43mimwrite\u001b[49m\u001b[43m(\u001b[49m\u001b[38;5;124;43mf\u001b[39;49m\u001b[38;5;124;43m'\u001b[39;49m\u001b[38;5;124;43mpreprocessed/images/\u001b[39;49m\u001b[38;5;132;43;01m{\u001b[39;49;00m\u001b[43mbase_name\u001b[49m\u001b[38;5;132;43;01m}\u001b[39;49;00m\u001b[38;5;124;43m_\u001b[39;49m\u001b[38;5;132;43;01m{\u001b[39;49;00m\u001b[43mi\u001b[49m\u001b[38;5;132;43;01m}\u001b[39;49;00m\u001b[38;5;124;43m.jpg\u001b[39;49m\u001b[38;5;124;43m'\u001b[39;49m\u001b[43m,\u001b[49m\u001b[43m \u001b[49m\u001b[43maugmented_image\u001b[49m\u001b[43m)\u001b[49m\n",
      "\u001b[0;31mKeyboardInterrupt\u001b[0m: "
     ]
    }
   ],
   "source": [
    "path = \"Training Set/Training Images/\"\n",
    "preprocess_images(path)"
   ]
  },
  {
   "cell_type": "code",
   "execution_count": 25,
   "metadata": {},
   "outputs": [],
   "source": [
    "path = 'Training Set/Training Coordinates'\n",
    "preprocess_labels(path)"
   ]
  },
  {
   "cell_type": "code",
   "execution_count": 84,
   "metadata": {},
   "outputs": [],
   "source": [
    "def check_indecies(list1, list2):\n",
    "    #return [] if all elements in list1 are in the same spot in list2. \n",
    "    #otherwise, return the indices of the elements that are not in the same spot\n",
    "    return [i for i in range(len(list1)) if list1[i] != list2[i]]"
   ]
  },
  {
   "cell_type": "code",
   "execution_count": 85,
   "metadata": {},
   "outputs": [],
   "source": [
    "import os\n",
    "import shutil\n",
    "import random\n",
    "\n",
    "def partition_files(input_folder, output_folder, train_ratio=0.7, val_ratio=0.2, test_ratio=0.1, seed=42):\n",
    "    # Ensure the ratios sum up to 1.0\n",
    "    assert abs(train_ratio + val_ratio + test_ratio - 1.0) < 1e-6, \"Ratios must sum to 1.0\"\n",
    "\n",
    "    # Set the seed for reproducibility\n",
    "    random.seed(seed)\n",
    "    \n",
    "    # List all image files in the input folder\n",
    "    label_files = [f for f in os.listdir(input_folder+\"/labels\") if os.path.isfile(os.path.join(input_folder+\"/labels\", f))]\n",
    "    image_files = [f for f in os.listdir(input_folder+\"/images\") if os.path.isfile(os.path.join(input_folder+\"/images\", f))]\n",
    "    \n",
    "    #print the difference between the two if they were sets\n",
    "    label_files_base = set([os.path.splitext(f)[0] for f in label_files])\n",
    "    image_files_base = set([os.path.splitext(f)[0] for f in image_files])\n",
    "    \n",
    "    #remove the files that are not in both from the label_files\n",
    "    label_files = [f for f in label_files if os.path.splitext(f)[0] in image_files_base]\n",
    "    image_files = [f for f in image_files if os.path.splitext(f)[0] in label_files_base]\n",
    "\n",
    "    print(len(image_files))\n",
    "    print(len(label_files))\n",
    "    #sort both lists\n",
    "    label_files.sort()\n",
    "    image_files.sort()\n",
    "\n",
    "    label_files_base = [os.path.splitext(f)[0] for f in label_files]\n",
    "    image_files_base = [os.path.splitext(f)[0] for f in image_files]\n",
    "    print(check_indecies(label_files_base, image_files_base))\n",
    "\n",
    "    # Shuffle the files\n",
    "    zipped = list(zip(label_files, image_files))\n",
    "    random.shuffle(zipped)\n",
    "    \n",
    "    label_files, image_files = zip(*zipped)\n",
    "    \n",
    "    label_files_base = [os.path.splitext(f)[0] for f in label_files]\n",
    "    image_files_base = [os.path.splitext(f)[0] for f in image_files]\n",
    "    print(check_indecies(label_files_base, image_files_base))\n",
    "\n",
    "    \n",
    "    # Calculate the number of images for each partition\n",
    "    total_images = len(image_files)\n",
    "    train_count = int(total_images * train_ratio)\n",
    "    val_count = int(total_images * val_ratio)\n",
    "    \n",
    "    # Partition the images\n",
    "    train_images = image_files[:train_count]\n",
    "    val_images = image_files[train_count:train_count + val_count]\n",
    "    test_images = image_files[train_count + val_count:]\n",
    "    \n",
    "    train_labels = label_files[:train_count]\n",
    "    val_labels = label_files[train_count:train_count + val_count]\n",
    "    test_labels = label_files[train_count + val_count:]\n",
    "\n",
    "    # Create output subfolders if they do not exist\n",
    "    for folder_name in ['train', 'val', 'test']:\n",
    "        folder_path = os.path.join(output_folder, folder_name)\n",
    "        os.makedirs(folder_path, exist_ok=True)\n",
    "    \n",
    "    # Move images to corresponding folders\n",
    "    def copy_images(file_list, destination_folder, type='images'):\n",
    "        for file_name in file_list:\n",
    "            shutil.copy(os.path.join(input_folder+\"/\"+type, file_name), os.path.join(destination_folder, file_name))\n",
    "    \n",
    "    copy_images(train_images, os.path.join(output_folder, 'train/images'))\n",
    "    copy_images(val_images, os.path.join(output_folder, 'val/images'))\n",
    "    copy_images(test_images, os.path.join(output_folder, 'test/images'))\n",
    "\n",
    "    copy_images(train_labels, os.path.join(output_folder, 'train/labels'), 'labels')\n",
    "    copy_images(val_labels, os.path.join(output_folder, 'val/labels'), 'labels')\n",
    "    copy_images(test_labels, os.path.join(output_folder, 'test/labels'), 'labels')\n",
    "    \n",
    "    print(f\"Images partitioned into:\\n\"\n",
    "          f\"Train: {len(train_images)}\\n\"\n",
    "          f\"Validation: {len(val_images)}\\n\"\n",
    "          f\"Test: {len(test_images)}\")\n",
    "\n",
    "\n"
   ]
  },
  {
   "cell_type": "code",
   "execution_count": 87,
   "metadata": {},
   "outputs": [
    {
     "name": "stdout",
     "output_type": "stream",
     "text": [
      "16236\n",
      "16236\n",
      "[]\n",
      "[]\n",
      "Images partitioned into:\n",
      "Train: 11365\n",
      "Validation: 3247\n",
      "Test: 1624\n"
     ]
    }
   ],
   "source": [
    "input_folder = 'cleaned'  # Replace with your folder containing images\n",
    "output_folder = 'partitioned'  # Replace with your desired output folder\n",
    "partition_files(input_folder, output_folder)"
   ]
  },
  {
   "cell_type": "code",
   "execution_count": 89,
   "metadata": {},
   "outputs": [],
   "source": [
    "def test_deaugmentation(folder, target_folder = \"test\"):\n",
    "    label_files = get_txt_files(folder + \"/labels\")\n",
    "    for label_file in label_files:\n",
    "        #only keep the filenames ending with _0.txt\n",
    "        if not label_file.endswith(\"_0.txt\"):\n",
    "            continue\n",
    "        #copy it to the target folder with the same name\n",
    "        base_name = os.path.splitext(os.path.basename(label_file))[0]\n",
    "        shutil.copy(label_file, f\"{target_folder}/labels/{base_name}.txt\")\n",
    "    #same for image files\n",
    "    image_files = get_image_files(folder + \"/images\")\n",
    "    for image_file in image_files:\n",
    "        if not image_file.endswith(\"_0.jpg\"):\n",
    "            continue\n",
    "        base_name = os.path.splitext(os.path.basename(image_file))[0]\n",
    "        shutil.copy(image_file, f\"{target_folder}/images/{base_name}.jpg\")\n"
   ]
  },
  {
   "cell_type": "code",
   "execution_count": 93,
   "metadata": {},
   "outputs": [],
   "source": [
    "test_deaugmentation(\"partitioned/val\", \"validation\")"
   ]
  },
  {
   "cell_type": "code",
   "execution_count": 81,
   "metadata": {},
   "outputs": [],
   "source": [
    "#check the base names of the files in the each of 2 folders are the same. Return how many are different\n",
    "def check_files(folder1, folder2):\n",
    "    files1 = set([os.path.splitext(os.path.basename(f))[0] for f in get_image_files(folder1)])\n",
    "    files2 = set([os.path.splitext(os.path.basename(f))[0] for f in get_txt_files(folder2)])\n",
    "    print(len(files1))\n",
    "    print(len(files2))\n",
    "    return len(files1.symmetric_difference(files2))"
   ]
  },
  {
   "cell_type": "code",
   "execution_count": 94,
   "metadata": {},
   "outputs": [
    {
     "name": "stdout",
     "output_type": "stream",
     "text": [
      "791\n",
      "791\n"
     ]
    },
    {
     "data": {
      "text/plain": [
       "0"
      ]
     },
     "execution_count": 94,
     "metadata": {},
     "output_type": "execute_result"
    }
   ],
   "source": [
    "check_files(\"validation/images\", \"validation/labels\")"
   ]
  },
  {
   "cell_type": "code",
   "execution_count": 64,
   "metadata": {},
   "outputs": [],
   "source": [
    "def clean_data(input_folder, output_folder_path) -> int:\n",
    "    # List all image files in the input folder\n",
    "    label_files = [f for f in os.listdir(input_folder+\"/labels\") if os.path.isfile(os.path.join(input_folder+\"/labels\", f))]\n",
    "    image_files = [f for f in os.listdir(input_folder+\"/images\") if os.path.isfile(os.path.join(input_folder+\"/images\", f))]\n",
    "    \n",
    "    #print the difference between the two if they were sets\n",
    "    label_files_base = set([os.path.splitext(f)[0] for f in label_files])\n",
    "    image_files_base = set([os.path.splitext(f)[0] for f in image_files])\n",
    "    number_wrong = len(image_files_base.symmetric_difference(label_files_base))\n",
    "    #remove the files that are not in both from the label_files\n",
    "    label_files = [f for f in label_files if os.path.splitext(f)[0] in image_files_base]\n",
    "    image_files = [f for f in image_files if os.path.splitext(f)[0] in label_files_base]\n",
    "\n",
    "    label_files_base = set([os.path.splitext(f)[0] for f in label_files])\n",
    "    image_files_base = set([os.path.splitext(f)[0] for f in image_files])\n",
    "    #make sure new symetric difference is 0\n",
    "    if(label_files_base.symmetric_difference(image_files_base) != set()):\n",
    "        print(\"There is something wrong with the files\")\n",
    "    #copy the files to the new folder\n",
    "    for file in image_files:\n",
    "        shutil.copy(input_folder+\"/images/\"+file, output_folder_path+\"/images/\"+file)\n",
    "    for file in label_files:\n",
    "        shutil.copy(input_folder+\"/labels/\"+file, output_folder_path+\"/labels/\"+file)\n",
    "    return number_wrong\n"
   ]
  },
  {
   "cell_type": "code",
   "execution_count": 65,
   "metadata": {},
   "outputs": [
    {
     "data": {
      "text/plain": [
       "288"
      ]
     },
     "execution_count": 65,
     "metadata": {},
     "output_type": "execute_result"
    }
   ],
   "source": [
    "clean_data(\"preprocessed\", \"cleaned\")"
   ]
  }
 ],
 "metadata": {
  "kernelspec": {
   "display_name": "Python 3",
   "language": "python",
   "name": "python3"
  },
  "language_info": {
   "codemirror_mode": {
    "name": "ipython",
    "version": 3
   },
   "file_extension": ".py",
   "mimetype": "text/x-python",
   "name": "python",
   "nbconvert_exporter": "python",
   "pygments_lexer": "ipython3",
   "version": "3.10.8"
  }
 },
 "nbformat": 4,
 "nbformat_minor": 2
}
